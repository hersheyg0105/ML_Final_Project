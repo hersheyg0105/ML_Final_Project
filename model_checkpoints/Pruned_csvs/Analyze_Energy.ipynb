{
 "cells": [
  {
   "cell_type": "code",
   "execution_count": 6,
   "metadata": {},
   "outputs": [],
   "source": [
    "import pandas as pd\n",
    "import numpy as np"
   ]
  },
  {
   "cell_type": "code",
   "execution_count": 7,
   "metadata": {},
   "outputs": [],
   "source": [
    "def find_Area(df):\n",
    "    total_area = 0\n",
    "    for i in range(len(df) - 1):\n",
    "        watt = df.loc[i, \"W\"]\n",
    "        time = df.loc[i + 1, \"time\"] - df.loc[i, \"time\"]\n",
    "        total_area += (watt * time)\n",
    "    # print(\"mc1 total area is \" + str(total_area))\n",
    "    return total_area\n",
    "\n",
    "def getMaxWattage(df):\n",
    "    return df[\"W\"].max()"
   ]
  },
  {
   "cell_type": "code",
   "execution_count": 8,
   "metadata": {},
   "outputs": [],
   "source": [
    "csvs = []\n",
    "threshold = []\n",
    "max_wattage = []\n",
    "max_area = []\n",
    "\n",
    "vals = [0.05, 0.1, 0.2, 0.3, 0.4, 0.5, 0.6, 0.7, 0.8, 0.9]\n",
    "\n",
    "for num in vals:\n",
    "    # model_type = \"pruned_model_\"\n",
    "    model_type = \"quantized_model_\"\n",
    "    input_name = model_type + str(num) + \".onnx\" \n",
    "    measurment_csv_output_name = model_type + str(num) + \".csv\"\n",
    "\n",
    "    df = pd.read_csv(measurment_csv_output_name)\n",
    "    max_w = getMaxWattage(df)\n",
    "    max_wattage.append(max_w)\n",
    "    area = find_Area(df)\n",
    "    max_area.append(area)\n",
    "    threshold.append(num)"
   ]
  },
  {
   "cell_type": "code",
   "execution_count": 9,
   "metadata": {},
   "outputs": [
    {
     "data": {
      "text/html": [
       "<div>\n",
       "<style scoped>\n",
       "    .dataframe tbody tr th:only-of-type {\n",
       "        vertical-align: middle;\n",
       "    }\n",
       "\n",
       "    .dataframe tbody tr th {\n",
       "        vertical-align: top;\n",
       "    }\n",
       "\n",
       "    .dataframe thead th {\n",
       "        text-align: right;\n",
       "    }\n",
       "</style>\n",
       "<table border=\"1\" class=\"dataframe\">\n",
       "  <thead>\n",
       "    <tr style=\"text-align: right;\">\n",
       "      <th></th>\n",
       "      <th>Threshold</th>\n",
       "      <th>Max_Wattage</th>\n",
       "      <th>Max_Area</th>\n",
       "    </tr>\n",
       "  </thead>\n",
       "  <tbody>\n",
       "    <tr>\n",
       "      <th>0</th>\n",
       "      <td>0.05</td>\n",
       "      <td>7.302</td>\n",
       "      <td>503.828780</td>\n",
       "    </tr>\n",
       "    <tr>\n",
       "      <th>1</th>\n",
       "      <td>0.10</td>\n",
       "      <td>6.699</td>\n",
       "      <td>475.108036</td>\n",
       "    </tr>\n",
       "    <tr>\n",
       "      <th>2</th>\n",
       "      <td>0.20</td>\n",
       "      <td>6.859</td>\n",
       "      <td>443.603046</td>\n",
       "    </tr>\n",
       "    <tr>\n",
       "      <th>3</th>\n",
       "      <td>0.30</td>\n",
       "      <td>7.076</td>\n",
       "      <td>398.215293</td>\n",
       "    </tr>\n",
       "    <tr>\n",
       "      <th>4</th>\n",
       "      <td>0.40</td>\n",
       "      <td>6.996</td>\n",
       "      <td>368.828982</td>\n",
       "    </tr>\n",
       "    <tr>\n",
       "      <th>5</th>\n",
       "      <td>0.50</td>\n",
       "      <td>7.138</td>\n",
       "      <td>339.841448</td>\n",
       "    </tr>\n",
       "    <tr>\n",
       "      <th>6</th>\n",
       "      <td>0.60</td>\n",
       "      <td>7.500</td>\n",
       "      <td>304.460859</td>\n",
       "    </tr>\n",
       "    <tr>\n",
       "      <th>7</th>\n",
       "      <td>0.70</td>\n",
       "      <td>7.889</td>\n",
       "      <td>261.680378</td>\n",
       "    </tr>\n",
       "    <tr>\n",
       "      <th>8</th>\n",
       "      <td>0.80</td>\n",
       "      <td>8.397</td>\n",
       "      <td>206.887277</td>\n",
       "    </tr>\n",
       "    <tr>\n",
       "      <th>9</th>\n",
       "      <td>0.90</td>\n",
       "      <td>5.844</td>\n",
       "      <td>68.393505</td>\n",
       "    </tr>\n",
       "  </tbody>\n",
       "</table>\n",
       "</div>"
      ],
      "text/plain": [
       "   Threshold  Max_Wattage    Max_Area\n",
       "0       0.05        7.302  503.828780\n",
       "1       0.10        6.699  475.108036\n",
       "2       0.20        6.859  443.603046\n",
       "3       0.30        7.076  398.215293\n",
       "4       0.40        6.996  368.828982\n",
       "5       0.50        7.138  339.841448\n",
       "6       0.60        7.500  304.460859\n",
       "7       0.70        7.889  261.680378\n",
       "8       0.80        8.397  206.887277\n",
       "9       0.90        5.844   68.393505"
      ]
     },
     "execution_count": 9,
     "metadata": {},
     "output_type": "execute_result"
    }
   ],
   "source": [
    "df = pd.DataFrame(list(zip(threshold, max_wattage, max_area)),columns =['Threshold', 'Max_Wattage', 'Max_Area'])\n",
    "df"
   ]
  }
 ],
 "metadata": {
  "interpreter": {
   "hash": "49f43478476cfa9c5fb667e34d8f90772758223488791fccb9ae376d503b7c97"
  },
  "kernelspec": {
   "display_name": "Python 3.9.5 ('new_env')",
   "language": "python",
   "name": "python3"
  },
  "language_info": {
   "codemirror_mode": {
    "name": "ipython",
    "version": 3
   },
   "file_extension": ".py",
   "mimetype": "text/x-python",
   "name": "python",
   "nbconvert_exporter": "python",
   "pygments_lexer": "ipython3",
   "version": "3.9.5"
  },
  "orig_nbformat": 4
 },
 "nbformat": 4,
 "nbformat_minor": 2
}
